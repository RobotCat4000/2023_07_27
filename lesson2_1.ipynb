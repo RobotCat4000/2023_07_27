{
 "cells": [
  {
   "cell_type": "code",
   "execution_count": 2,
   "metadata": {},
   "outputs": [
    {
     "name": "stdout",
     "output_type": "stream",
     "text": [
      "Hello! Python!\n",
      "\n",
      "Do you know the way?\n",
      "\n",
      "Do you don't know the way\n",
      "\n",
      "You can to pay, with you life\n",
      "\n",
      "come on brother!!!\n",
      "\n",
      "da wae!\n",
      "\n",
      "da wae!\n",
      "\n",
      "da wae!\n"
     ]
    }
   ],
   "source": [
    "print(\"Hello! Python!\")\n",
    "print(\"\")\n",
    "print(\"Do you know the way?\")\n",
    "print(\"\")\n",
    "print(\"Do you don't know the way\")\n",
    "print(\"\")\n",
    "print(\"You can to pay, with you life\")\n",
    "print(\"\")\n",
    "print(\"come on brother!!!\")\n",
    "print(\"\")\n",
    "print(\"da wae!\")\n",
    "print(\"\")\n",
    "print(\"da wae!\")\n",
    "print(\"\")\n",
    "print(\"da wae!\")"
   ]
  }
 ],
 "metadata": {
  "kernelspec": {
   "display_name": "Python 3",
   "language": "python",
   "name": "python3"
  },
  "language_info": {
   "codemirror_mode": {
    "name": "ipython",
    "version": 3
   },
   "file_extension": ".py",
   "mimetype": "text/x-python",
   "name": "python",
   "nbconvert_exporter": "python",
   "pygments_lexer": "ipython3",
   "version": "3.10.12"
  },
  "orig_nbformat": 4
 },
 "nbformat": 4,
 "nbformat_minor": 2
}
