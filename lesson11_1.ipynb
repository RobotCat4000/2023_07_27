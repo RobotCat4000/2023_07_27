{
 "cells": [
  {
   "cell_type": "code",
   "execution_count": 27,
   "metadata": {},
   "outputs": [
    {
     "data": {
      "text/plain": [
       "[['葉志峰', 51, 83, 59, 90, 75],\n",
       " ['李政白', 50, 65, 93, 50, 52],\n",
       " ['李美洋', 89, 78, 57, 81, 54],\n",
       " ['景歡燦', 58, 75, 62, 79, 54],\n",
       " ['潘俊賢', 76, 93, 77, 55, 81],\n",
       " ['余月修', 95, 75, 88, 80, 59],\n",
       " ['楊韻如', 81, 83, 53, 55, 79],\n",
       " ['趙家豪', 90, 52, 89, 69, 59],\n",
       " ['藍哲嘉', 75, 100, 87, 50, 63],\n",
       " ['游詩亞', 99, 98, 99, 67, 97]]"
      ]
     },
     "execution_count": 27,
     "metadata": {},
     "output_type": "execute_result"
    }
   ],
   "source": [
    "import random\n",
    "def 獲得分數() -> list:\n",
    "    分數 = []\n",
    "    for i in range(5):\n",
    "        分數.append(random.randint(50, 100))\n",
    "    return 分數\n",
    "\n",
    "數量_int = int(input(\"輸入學生數:\"))\n",
    "#取得(輸入數量)個姓名\n",
    "with open('names.txt',encoding='utf-8',newline='') as file:\n",
    "    names_str = file.read()\n",
    "    All_names_list = names_str.split(sep=\"\\n\")\n",
    "    names_list = random.choices(All_names_list,k=數量_int)#取出一定數量的姓名\n",
    "\n",
    "\n",
    "\n",
    "學生 = []\n",
    "for i in range(數量_int):\n",
    "    分數 = 獲得分數()\n",
    "    New_list = [names_list[i]] + 分數\n",
    "    學生.append(New_list)\n",
    "學生"
   ]
  },
  {
   "cell_type": "code",
   "execution_count": 24,
   "metadata": {},
   "outputs": [
    {
     "data": {
      "text/plain": [
       "[['聶心怡', 76, 77, 98, 64, 67],\n",
       " ['高智超', 98, 75, 61, 66, 90],\n",
       " ['馮芳如', 52, 73, 86, 60, 78],\n",
       " ['朱惠儀', 97, 67, 91, 73, 82],\n",
       " ['謝南慧', 63, 71, 58, 76, 95],\n",
       " ['王良斌', 51, 78, 95, 58, 89],\n",
       " ['陳逸華', 89, 62, 59, 95, 56],\n",
       " ['陳冠霞', 67, 98, 94, 58, 50],\n",
       " ['方雅慧', 94, 72, 61, 61, 84],\n",
       " ['葉祖雄', 58, 68, 100, 63, 60]]"
      ]
     },
     "execution_count": 24,
     "metadata": {},
     "output_type": "execute_result"
    }
   ],
   "source": [
    "import random\n",
    "def get_score() -> list:\n",
    "    score = []\n",
    "    for i in range(5):\n",
    "        score.append(random.randint(50, 100))\n",
    "    return score\n",
    "\n",
    "nums_int = int(input(\"請輸入學生數:\"))\n",
    "#取得nums_int個姓名\n",
    "with open('names.txt',encoding='utf-8',newline='') as file:\n",
    "    names_str = file.read()\n",
    "    all_names_list = names_str.split(sep=\"\\n\")\n",
    "    names_list = random.choices(all_names_list,k=nums_int) #取出一定數量的姓名\n",
    "\n",
    "\n",
    "students = []\n",
    "for i in range(nums_int):\n",
    "    scores = get_score()\n",
    "    new_list = [names_list[i]] + scores\n",
    "    students.append(new_list)\n",
    "students"
   ]
  }
 ],
 "metadata": {
  "kernelspec": {
   "display_name": "Python 3",
   "language": "python",
   "name": "python3"
  },
  "language_info": {
   "codemirror_mode": {
    "name": "ipython",
    "version": 3
   },
   "file_extension": ".py",
   "mimetype": "text/x-python",
   "name": "python",
   "nbconvert_exporter": "python",
   "pygments_lexer": "ipython3",
   "version": "3.10.12"
  },
  "orig_nbformat": 4
 },
 "nbformat": 4,
 "nbformat_minor": 2
}
