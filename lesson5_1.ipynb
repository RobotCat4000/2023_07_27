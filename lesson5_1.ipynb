{
 "cells": [
  {
   "cell_type": "code",
   "execution_count": 1,
   "metadata": {},
   "outputs": [
    {
     "name": "stdout",
     "output_type": "stream",
     "text": [
      "獎金:1000\n"
     ]
    }
   ],
   "source": [
    "國文分數 = int(input(\"請輸入國文分數\"))\n",
    "數學分數 = int(input(\"請輸入數學分數\"))\n",
    "#巢狀判斷\n",
    "bonus = 0\n",
    "if 國文分數 == 100:\n",
    "    if 數學分數 == 100:\n",
    "        bonus = 1000\n",
    "    else:\n",
    "        bonus = 500\n",
    "elif 數學分數 == 100:\n",
    "    bonus = 500\n",
    "\n",
    "print(f\"獎金:{bonus}\")"
   ]
  },
  {
   "cell_type": "code",
   "execution_count": 5,
   "metadata": {},
   "outputs": [],
   "source": [
    "國文分數 = int(input(\"請輸入國文分數\"))\n",
    "數學分數 = int(input(\"請輸入數學分數\"))\n",
    "#使用邏輯運算子\n",
    "bonus = 0\n",
    "#錯誤的寫法，嚴格的寫在上方\n",
    "if 國文分數 == 100 and 數學分數 ==100:\n",
    "    bonus == 1000\n",
    "elif 國文分數 == 100 or 數學分數 == 100:\n",
    "    bonus = 500\n",
    "    print(f\"獎金:{bonus}\")"
   ]
  }
 ],
 "metadata": {
  "kernelspec": {
   "display_name": "Python 3",
   "language": "python",
   "name": "python3"
  },
  "language_info": {
   "codemirror_mode": {
    "name": "ipython",
    "version": 3
   },
   "file_extension": ".py",
   "mimetype": "text/x-python",
   "name": "python",
   "nbconvert_exporter": "python",
   "pygments_lexer": "ipython3",
   "version": "3.10.12"
  },
  "orig_nbformat": 4
 },
 "nbformat": 4,
 "nbformat_minor": 2
}
