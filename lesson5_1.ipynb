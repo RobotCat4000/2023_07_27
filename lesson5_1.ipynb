{
 "cells": [
  {
   "cell_type": "code",
   "execution_count": 1,
   "metadata": {},
   "outputs": [
    {
     "name": "stdout",
     "output_type": "stream",
     "text": [
      "獎金:1000\n"
     ]
    }
   ],
   "source": [
    "國文分數 = int(input(\"請輸入國文分數\"))\n",
    "數學分數 = int(input(\"請輸入數學分數\"))\n",
    "#巢狀判斷\n",
    "bonus = 0\n",
    "if 國文分數 == 100:\n",
    "    if 數學分數 == 100:\n",
    "        bonus = 1000\n",
    "    else:\n",
    "        bonus = 500\n",
    "elif 數學分數 == 100:\n",
    "    bonus = 500\n",
    "\n",
    "print(f\"獎金:{bonus}\")"
   ]
  },
  {
   "cell_type": "code",
   "execution_count": 8,
   "metadata": {},
   "outputs": [
    {
     "name": "stdout",
     "output_type": "stream",
     "text": [
      "獎金:0\n"
     ]
    }
   ],
   "source": [
    "國文分數 = int(input(\"請輸入國文分數\"))\n",
    "數學分數 = int(input(\"請輸入數學分數\"))\n",
    "#使用邏輯運算子\n",
    "bonus = 0\n",
    "\n",
    "if 國文分數 == 100 and 數學分數 ==100:\n",
    "    bonus == 1000\n",
    "elif 國文分數 == 100 or 數學分數 == 100:\n",
    "    bonus = 500\n",
    "print(f\"獎金:{bonus}\")"
   ]
  },
  {
   "cell_type": "code",
   "execution_count": 7,
   "metadata": {},
   "outputs": [
    {
     "name": "stdout",
     "output_type": "stream",
     "text": [
      "獎金:1000\n"
     ]
    }
   ],
   "source": [
    "國文分數 = int(input(\"請輸入國文分數\"))\n",
    "數學分數 = int(input(\"請輸入數學分數\"))\n",
    "#使用邏輯運算子\n",
    "bonus = 0\n",
    "#錯誤的寫法，嚴格的寫在上方\n",
    "if 國文分數 == 100 or 數學分數 == 100:\n",
    "    bonus = 1000\n",
    "elif 國文分數 == 100 and 數學分數 == 100:\n",
    "    bonus = 500\n",
    "print(f\"獎金:{bonus}\")"
   ]
  },
  {
   "cell_type": "code",
   "execution_count": null,
   "metadata": {},
   "outputs": [],
   "source": [
    "血壓 = int(input(\"請輸入血壓值\"))\n",
    "if 血壓 >= 80 and 血壓 <= 120:\n",
    "    print(\"血壓正常\")\n",
    "else:\n",
    "    print(\"血壓不正常\")"
   ]
  },
  {
   "cell_type": "code",
   "execution_count": null,
   "metadata": {},
   "outputs": [],
   "source": [
    "血壓 = int(input(\"請輸入血壓值\"))\n",
    "if 血壓 < 80 or 血壓 > 120:\n",
    "    print(\"血壓不正常\")\n",
    "else:\n",
    "    print(\"血壓正常\")"
   ]
  },
  {
   "cell_type": "code",
   "execution_count": 11,
   "metadata": {},
   "outputs": [
    {
     "name": "stdout",
     "output_type": "stream",
     "text": [
      "您的身高:162\n",
      "您的體重:60\n",
      "BMI值22.86\n",
      "提示:正常範圍\n"
     ]
    }
   ],
   "source": [
    "\n",
    "#BMI計算後分析\n",
    "身高 = int(input(\"請輸入身高,單位為(公分):\"))\n",
    "體重 = int(input(\"請輸入體重,單位為(公斤):\"))\n",
    "\n",
    "bmi = 體重 / (身高/100) ** 2\n",
    "suggest = \"\"\n",
    "\n",
    "if bmi < 18.5:\n",
    "    suggest = \"體重過輕\"\n",
    "elif bmi < 24:\n",
    "    suggest = \"正常範圍\"\n",
    "elif bmi < 27:\n",
    "    suggest = \"過重\"\n",
    "elif bmi < 30:\n",
    "    suggest = \"輕度肥胖\"\n",
    "elif bmi < 35:\n",
    "    suggest = \"中度肥胖\"\n",
    "else:\n",
    "    suggest = \"重度肥胖\"\n",
    "\n",
    "print(f\"您的身高:{身高}\")\n",
    "print(f\"您的體重:{體重}\")\n",
    "#只顯示到小數點2位\n",
    "#print(f\"BMI值{bmi:.2f}\")\n",
    "#4捨5入到小數點2位\n",
    "print(f\"BMI值{round(bmi,ndigits=2)}\")\n",
    "print(f\"提示:{suggest}\")"
   ]
  }
 ],
 "metadata": {
  "kernelspec": {
   "display_name": "Python 3",
   "language": "python",
   "name": "python3"
  },
  "language_info": {
   "codemirror_mode": {
    "name": "ipython",
    "version": 3
   },
   "file_extension": ".py",
   "mimetype": "text/x-python",
   "name": "python",
   "nbconvert_exporter": "python",
   "pygments_lexer": "ipython3",
   "version": "3.10.12"
  },
  "orig_nbformat": 4
 },
 "nbformat": 4,
 "nbformat_minor": 2
}
