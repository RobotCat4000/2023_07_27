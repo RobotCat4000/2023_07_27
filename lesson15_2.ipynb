{
 "cells": [
  {
   "cell_type": "code",
   "execution_count": 2,
   "metadata": {},
   "outputs": [
    {
     "data": {
      "text/plain": [
       "[3, 7, 11, 15, 19]"
      ]
     },
     "execution_count": 2,
     "metadata": {},
     "output_type": "execute_result"
    }
   ],
   "source": [
    "#建立list\n",
    "a = [1, 3, 5, 7, 9]\n",
    "a * 2\n",
    "\n",
    "b = [2, 4, 6, 8, 10]\n",
    "a + b\n",
    "\n",
    "resulf = []\n",
    "for i in range(5):\n",
    "    resulf.append(a[i] + b[i])\n",
    "\n",
    "resulf"
   ]
  },
  {
   "cell_type": "code",
   "execution_count": 4,
   "metadata": {},
   "outputs": [
    {
     "data": {
      "text/plain": [
       "array([ 3,  7, 11, 15, 19])"
      ]
     },
     "execution_count": 4,
     "metadata": {},
     "output_type": "execute_result"
    }
   ],
   "source": [
    "import numpy as np\n",
    "\n",
    "#透過list建立ndArray\n",
    "\n",
    "a_array = numpy.array([1, 3, 5, 7, 9])\n",
    "a_array * 2\n",
    "\n",
    "b_array = numpy.array([2, 4, 6, 8, 10])\n",
    "\n",
    "a_array + b_array"
   ]
  },
  {
   "cell_type": "code",
   "execution_count": 24,
   "metadata": {},
   "outputs": [
    {
     "data": {
      "text/plain": [
       "[76, 66, 98, 64, 68]"
      ]
     },
     "execution_count": 24,
     "metadata": {},
     "output_type": "execute_result"
    }
   ],
   "source": [
    "#使用python建立5個亂數元素的list\n",
    "import random\n",
    "\n",
    "#list comprehension\n",
    "[random.randint(50,100) for _ in range(5)]"
   ]
  },
  {
   "cell_type": "code",
   "execution_count": 31,
   "metadata": {},
   "outputs": [
    {
     "data": {
      "text/plain": [
       "array([71, 63, 66, 89, 73])"
      ]
     },
     "execution_count": 31,
     "metadata": {},
     "output_type": "execute_result"
    }
   ],
   "source": [
    "#使用numpy random 建立亂數\n",
    "import numpy as np\n",
    "np.random.randint(50,high=100,size=5)"
   ]
  },
  {
   "cell_type": "code",
   "execution_count": 47,
   "metadata": {},
   "outputs": [
    {
     "data": {
      "text/plain": [
       "array([[79, 52, 83, 76, 84],\n",
       "       [86, 57, 97, 63, 61],\n",
       "       [96, 82, 53, 62, 62],\n",
       "       [77, 61, 78, 75, 67],\n",
       "       [88, 91, 82, 93, 93],\n",
       "       [69, 58, 98, 91, 53],\n",
       "       [79, 55, 89, 69, 76],\n",
       "       [95, 99, 77, 75, 53],\n",
       "       [72, 92, 56, 82, 53],\n",
       "       [77, 92, 76, 78, 64],\n",
       "       [66, 52, 74, 83, 58],\n",
       "       [92, 91, 96, 69, 57],\n",
       "       [74, 74, 76, 51, 65],\n",
       "       [73, 54, 81, 66, 71],\n",
       "       [97, 96, 63, 76, 50],\n",
       "       [86, 89, 66, 64, 72],\n",
       "       [68, 70, 63, 91, 61],\n",
       "       [73, 85, 94, 79, 96],\n",
       "       [57, 82, 83, 73, 65],\n",
       "       [66, 84, 68, 67, 57],\n",
       "       [78, 89, 75, 98, 54],\n",
       "       [75, 66, 93, 79, 96],\n",
       "       [82, 57, 97, 85, 54],\n",
       "       [82, 84, 93, 93, 52],\n",
       "       [78, 67, 56, 85, 56],\n",
       "       [88, 55, 97, 63, 57],\n",
       "       [90, 69, 69, 93, 86],\n",
       "       [90, 61, 87, 52, 74],\n",
       "       [97, 66, 80, 71, 64],\n",
       "       [78, 98, 53, 76, 63],\n",
       "       [72, 80, 57, 63, 83],\n",
       "       [85, 68, 50, 62, 94],\n",
       "       [62, 80, 68, 60, 90],\n",
       "       [74, 74, 93, 90, 97],\n",
       "       [70, 66, 96, 61, 68],\n",
       "       [77, 87, 90, 87, 96],\n",
       "       [66, 71, 52, 71, 80],\n",
       "       [66, 51, 94, 93, 64],\n",
       "       [67, 66, 86, 52, 58],\n",
       "       [55, 69, 60, 64, 75],\n",
       "       [83, 51, 80, 69, 84],\n",
       "       [70, 93, 65, 77, 60],\n",
       "       [92, 58, 96, 66, 60],\n",
       "       [74, 71, 95, 78, 96],\n",
       "       [86, 64, 77, 63, 63],\n",
       "       [69, 70, 94, 54, 84],\n",
       "       [56, 61, 67, 73, 95],\n",
       "       [71, 55, 60, 56, 70],\n",
       "       [67, 78, 77, 99, 72],\n",
       "       [51, 73, 93, 99, 87]])"
      ]
     },
     "execution_count": 47,
     "metadata": {},
     "output_type": "execute_result"
    }
   ],
   "source": [
    "np.random.randint(50,high=100,size=(50, 5))"
   ]
  },
  {
   "cell_type": "code",
   "execution_count": null,
   "metadata": {},
   "outputs": [],
   "source": []
  }
 ],
 "metadata": {
  "kernelspec": {
   "display_name": "Python 3",
   "language": "python",
   "name": "python3"
  },
  "language_info": {
   "codemirror_mode": {
    "name": "ipython",
    "version": 3
   },
   "file_extension": ".py",
   "mimetype": "text/x-python",
   "name": "python",
   "nbconvert_exporter": "python",
   "pygments_lexer": "ipython3",
   "version": "3.10.12"
  },
  "orig_nbformat": 4
 },
 "nbformat": 4,
 "nbformat_minor": 2
}
