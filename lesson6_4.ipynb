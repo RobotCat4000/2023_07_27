{
 "cells": [
  {
   "cell_type": "code",
   "execution_count": null,
   "metadata": {},
   "outputs": [],
   "source": [
    "import random\n",
    "min = 1\n",
    "max = 100\n",
    "target = random.randint(1,10)\n",
    "count = 0\n",
    "\n",
    "print(\"========猜數字遊戲========\\n\\n\")\n",
    "while True:\n",
    "    keyin = int(input(f\"猜數字的範圍{min}~{max}:\"))\n",
    "    count += 1\n",
    "    if keyin >= min and keyin <= max:\n",
    "        if(keyin == target):\n",
    "            print(f\"Da way,答案是:{keyin}\")\n",
    "            print(f\"一共猜了{count}次\")\n",
    "            break\n",
    "        elif(keyin > target):\n",
    "            print(\"小一點\")\n",
    "            max = keyin-1\n",
    "        elif(keyin < target):\n",
    "            print(\"大一點\")\n",
    "            min = keyin +1\n",
    "        \n",
    "        print(f\"已經猜了{count}次\")\n",
    "    else:\n",
    "        print(\"超出範圍\")\n",
    "print(\"Da way! Da way! Da way!\")"
   ]
  },
  {
   "cell_type": "code",
   "execution_count": 12,
   "metadata": {},
   "outputs": [
    {
     "name": "stdout",
     "output_type": "stream",
     "text": [
      "72\n",
      "========猜數字遊戲========\n",
      "\n",
      "\n",
      "Da way,答案是:72\n",
      "一共猜了1次\n",
      "Da way! Da way! Da way!\n"
     ]
    }
   ],
   "source": [
    "import random\n",
    "while True:\n",
    "    min = 1\n",
    "    max = 100\n",
    "    target = random.randint(min,max)\n",
    "    print(target)\n",
    "    count = 0\n",
    "    \n",
    "    print(\"========猜數字遊戲========\\n\\n\")\n",
    "    while True:\n",
    "        keyin = int(input(f\"猜數字的範圍{min}~{max}:\"))\n",
    "        count += 1\n",
    "        if keyin >= min and keyin <= max:\n",
    "            if(keyin == target):\n",
    "                print(f\"Da way,答案是:{keyin}\")\n",
    "                print(f\"一共猜了{count}次\")\n",
    "                break\n",
    "            elif(keyin > target):\n",
    "                print(\"小一點\")\n",
    "                max = keyin-1\n",
    "            elif(keyin < target):\n",
    "                print(\"大一點\")\n",
    "                min = keyin +1\n",
    "            \n",
    "            print(f\"已經猜了{count}次\")\n",
    "        else:\n",
    "            print(\"超出範圍\")\n",
    "    play_again = input(\"other way?(y/n):\")\n",
    "    if play_again == 'n':\n",
    "        break\n",
    "    else:\n",
    "        continue\n",
    "\n",
    "print(\"Da way! Da way! Da way!\")"
   ]
  }
 ],
 "metadata": {
  "kernelspec": {
   "display_name": "Python 3",
   "language": "python",
   "name": "python3"
  },
  "language_info": {
   "codemirror_mode": {
    "name": "ipython",
    "version": 3
   },
   "file_extension": ".py",
   "mimetype": "text/x-python",
   "name": "python",
   "nbconvert_exporter": "python",
   "pygments_lexer": "ipython3",
   "version": "3.10.12"
  },
  "orig_nbformat": 4
 },
 "nbformat": 4,
 "nbformat_minor": 2
}
