{
 "cells": [
  {
   "cell_type": "code",
   "execution_count": 5,
   "metadata": {},
   "outputs": [
    {
     "name": "stdout",
     "output_type": "stream",
     "text": [
      "梯形面積: 22.5 平方公分\n"
     ]
    }
   ],
   "source": [
    "上底 = float(input('輸入梯形的上底(公分):'))\n",
    "下底 = float(input('輸入梯形的底(公分):'))\n",
    "高 = float(input('輸入梯形的高(公分):'))\n",
    "\n",
    "面積 = (上底 + 下底) * 高 / 2\n",
    "#print(\"梯形面積:\",round(梯形面積,ndigits=2),\"平方公分\")\n",
    "print(f\"梯形面積:{面積:.2f}\")#(.2f)為強制只顯示小數點後兩位，並非4捨5入"
   ]
  },
  {
   "cell_type": "code",
   "execution_count": 1,
   "metadata": {},
   "outputs": [
    {
     "name": "stdout",
     "output_type": "stream",
     "text": [
      "我有10隻貓,5隻狗,共有15隻寵物\n"
     ]
    }
   ],
   "source": [
    "Cat = 10\n",
    "Dog = 5\n",
    "\n",
    "#print(\"我有\",Cat,\"隻貓\")\n",
    "print(f\"我有{Cat}隻貓,{Dog}隻狗,共有{Cat + Dog}隻寵物\")"
   ]
  },
  {
   "cell_type": "code",
   "execution_count": 5,
   "metadata": {},
   "outputs": [
    {
     "name": "stdout",
     "output_type": "stream",
     "text": [
      "對邊:5,斜邊:10,角度為:30.00\n"
     ]
    }
   ],
   "source": [
    "import math\n",
    "#高中數學(三角形角度)\n",
    "對邊 = eval(input(\"輸入對邊\"))\n",
    "斜邊 = eval(input(\"輸入斜邊\"))\n",
    "#勁度\n",
    "Radian = math.asin(對邊 / 斜邊)\n",
    "#角度\n",
    "degree = math.degrees(Radian)\n",
    "\n",
    "print(f\"對邊:{對邊},斜邊:{斜邊},角度為:{degree:.2f}\")"
   ]
  }
 ],
 "metadata": {
  "kernelspec": {
   "display_name": "Python 3",
   "language": "python",
   "name": "python3"
  },
  "language_info": {
   "codemirror_mode": {
    "name": "ipython",
    "version": 3
   },
   "file_extension": ".py",
   "mimetype": "text/x-python",
   "name": "python",
   "nbconvert_exporter": "python",
   "pygments_lexer": "ipython3",
   "version": "3.10.12"
  },
  "orig_nbformat": 4
 },
 "nbformat": 4,
 "nbformat_minor": 2
}
