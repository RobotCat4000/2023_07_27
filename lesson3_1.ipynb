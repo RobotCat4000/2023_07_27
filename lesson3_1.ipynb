{
 "cells": [
  {
   "cell_type": "code",
   "execution_count": 5,
   "metadata": {},
   "outputs": [
    {
     "name": "stdout",
     "output_type": "stream",
     "text": [
      "梯形面積: 22.5 平方公分\n"
     ]
    }
   ],
   "source": [
    "上底 = float(input('輸入梯形的上底(公分):'))\n",
    "下底 = float(input('輸入梯形的底(公分):'))\n",
    "高 = float(input('輸入梯形的高(公分):'))\n",
    "\n",
    "梯形面積 = (上底 + 下底) * 高 / 2\n",
    "print(\"梯形面積:\",round(梯形面積,ndigits=2),\"平方公分\")"
   ]
  }
 ],
 "metadata": {
  "kernelspec": {
   "display_name": "Python 3",
   "language": "python",
   "name": "python3"
  },
  "language_info": {
   "codemirror_mode": {
    "name": "ipython",
    "version": 3
   },
   "file_extension": ".py",
   "mimetype": "text/x-python",
   "name": "python",
   "nbconvert_exporter": "python",
   "pygments_lexer": "ipython3",
   "version": "3.10.12"
  },
  "orig_nbformat": 4
 },
 "nbformat": 4,
 "nbformat_minor": 2
}
