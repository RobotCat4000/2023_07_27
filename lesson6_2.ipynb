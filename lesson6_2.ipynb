{
 "cells": [
  {
   "cell_type": "code",
   "execution_count": 5,
   "metadata": {},
   "outputs": [
    {
     "data": {
      "text/plain": [
       "1"
      ]
     },
     "execution_count": 5,
     "metadata": {},
     "output_type": "execute_result"
    }
   ],
   "source": [
    "import random\n",
    "#0~4的亂數\n",
    "random.randrange(5)"
   ]
  },
  {
   "cell_type": "code",
   "execution_count": 6,
   "metadata": {},
   "outputs": [
    {
     "data": {
      "text/plain": [
       "3"
      ]
     },
     "execution_count": 6,
     "metadata": {},
     "output_type": "execute_result"
    }
   ],
   "source": [
    "random.randrange(3,5)"
   ]
  },
  {
   "cell_type": "code",
   "execution_count": 7,
   "metadata": {},
   "outputs": [
    {
     "data": {
      "text/plain": [
       "7"
      ]
     },
     "execution_count": 7,
     "metadata": {},
     "output_type": "execute_result"
    }
   ],
   "source": [
    "random.randint(1,10)"
   ]
  },
  {
   "cell_type": "code",
   "execution_count": 14,
   "metadata": {},
   "outputs": [
    {
     "name": "stdout",
     "output_type": "stream",
     "text": [
      "========猜數字遊戲========\n",
      "\n",
      "\n",
      "小一點\n",
      "已經猜了1次\n",
      "大一點\n",
      "已經猜了2次\n",
      "小一點\n",
      "已經猜了3次\n",
      "小一點\n",
      "已經猜了4次\n",
      "Da way,答案是:6\n",
      "一共猜了5次\n",
      "Da way! Da way! Da way!\n"
     ]
    }
   ],
   "source": [
    "import random\n",
    "min = 1\n",
    "max = 10\n",
    "target = random.randint(1,10)\n",
    "count = 0\n",
    "\n",
    "print(\"========猜數字遊戲========\\n\\n\")\n",
    "while True:\n",
    "    keyin = int(input(f\"猜數字的範圍{min}~{max}\"))\n",
    "    count += 1\n",
    "    if keyin >= min and keyin <= max:\n",
    "        if(keyin == target):\n",
    "            print(f\"Da way,答案是:{keyin}\")\n",
    "            print(f\"一共猜了{count}次\")\n",
    "            break\n",
    "        elif(keyin > target):\n",
    "            print(\"小一點\")\n",
    "            max = keyin-1\n",
    "        elif(keyin < target):\n",
    "            print(\"大一點\")\n",
    "            min = keyin +1\n",
    "        \n",
    "        print(f\"已經猜了{count}次\")\n",
    "    else:\n",
    "        print(\"超出範圍\")\n",
    "print(\"Da way! Da way! Da way!\")"
   ]
  }
 ],
 "metadata": {
  "kernelspec": {
   "display_name": "Python 3",
   "language": "python",
   "name": "python3"
  },
  "language_info": {
   "codemirror_mode": {
    "name": "ipython",
    "version": 3
   },
   "file_extension": ".py",
   "mimetype": "text/x-python",
   "name": "python",
   "nbconvert_exporter": "python",
   "pygments_lexer": "ipython3",
   "version": "3.10.12"
  },
  "orig_nbformat": 4
 },
 "nbformat": 4,
 "nbformat_minor": 2
}
